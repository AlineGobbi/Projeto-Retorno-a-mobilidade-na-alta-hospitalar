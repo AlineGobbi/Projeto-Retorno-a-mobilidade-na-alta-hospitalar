{
 "cells": [
  {
   "cell_type": "code",
   "execution_count": null,
   "metadata": {
    "id": "6lJPePpTCP3g"
   },
   "outputs": [],
   "source": [
    "import pandas as pd\n",
    "import numpy as n"
   ]
  },
  {
   "cell_type": "code",
   "execution_count": null,
   "metadata": {
    "id": "C6TJVuLwCPm1"
   },
   "outputs": [],
   "source": [
    "#importar a base de dados\n",
    "df = pd.read_excel('teste.xlsx')"
   ]
  },
  {
   "cell_type": "code",
   "execution_count": null,
   "metadata": {
    "colab": {
     "base_uri": "https://localhost:8080/",
     "height": 380
    },
    "executionInfo": {
     "elapsed": 910,
     "status": "error",
     "timestamp": 1690590269939,
     "user": {
      "displayName": "Aline Gobbi",
      "userId": "09468370064311738474"
     },
     "user_tz": 180
    },
    "id": "vEGSZ8EZwmXe",
    "outputId": "ce667205-9db9-4b39-a3e2-75b0b174d297"
   },
   "outputs": [],
   "source": [
    "# Ordenando os valores de acordo com o nível de mobilidade\n",
    "# baixa = mobilidade baixa/passiva\n",
    "# assist = mobilidade assistida/bastante ajuda\n",
    "# moderada = mobilidade moderada/pouca ajuda\n",
    "# alta = mobilidade alta/independente\n",
    "\n",
    "mobilidade = {\n",
    "    0: 'baixa',\n",
    "    1: 'baixa',\n",
    "    2: 'baixa',\n",
    "    3: 'assist',\n",
    "    4: 'assist',\n",
    "    5: 'assist',\n",
    "    6: 'moderada',\n",
    "    7: 'moderada',\n",
    "    8: 'moderada',\n",
    "    9: 'alta',\n",
    "    10: 'alta'\n",
    "}\n",
    "\n",
    "# Criando novas colunas para a Escala com as mobilidades definidas anteriormente (IMSPREVIO2 e IMSALTA2)\n",
    "df['IMSPREVIO2'] = df['IMSPREVIO'].map(mobilidade)\n",
    "df['IMSALTA2'] = df['IMSALTA'].map(mobilidade)\n",
    "\n",
    "# Realizando a contagem de pacientes em cada nível de mobilidade na Escala previamente a internação\n",
    "contagem_previo = df[\"IMSPREVIO2\"]. value_counts()\n",
    "print(contagem_previo)"
   ]
  },
  {
   "cell_type": "code",
   "execution_count": null,
   "metadata": {},
   "outputs": [],
   "source": [
    "# Realizando a contagem de pacientes em cada nível de mobilidade na Escala na alta hospitalar\n",
    "contagem_alta = df[\"IMSALTA2\"]. value_counts()\n",
    "print(contagem_alta)"
   ]
  },
  {
   "cell_type": "code",
   "execution_count": null,
   "metadata": {},
   "outputs": [],
   "source": [
    "# Criando a coluna \"retorno_mobilidade_previa\" inicialmente preenchida com valores em branco\n",
    "df['retorno_mobilidade_previa'] = ''\n",
    "\n",
    "# Preenchendo a coluna \"retorno_mobilidade_previa\" com os valores de acordo com as condições\n",
    "# Se o nível de mobilidade prévio e alta for igual será preenchido com \"sim\"\n",
    "# Se o nível de mobilidade prévio for maior que o da alta será preenchido com \"não\"\n",
    "# Se o nível de mobilidade prévio for menor que o da alta será preechido com \"sim\"\n",
    "\n",
    "for i in range(len(df)):\n",
    "    if df['IMSPREVIO2'][i] == df['IMSALTA2'][i]:\n",
    "        df['retorno_mobilidade_previa'][i] = 'sim'\n",
    "    elif df['IMSPREVIO2'][i] == 'baixa' and df['IMSALTA2'][i] in ['assist', 'moderada', 'alta']:\n",
    "        df['retorno_mobilidade_previa'][i] = 'sim'\n",
    "    elif df['IMSPREVIO2'][i] == 'assist' and df['IMSALTA2'][i] == 'baixa':\n",
    "        df['retorno_mobilidade_previa'][i] = 'não'\n",
    "    elif df['IMSPREVIO2'][i] == 'assist' and df['IMSALTA2'][i] in ['moderada', 'alta']:\n",
    "        df['retorno_mobilidade_previa'][i] = 'sim'\n",
    "    elif df['IMSPREVIO2'][i] == 'moderada' and df['IMSALTA2'][i] in ['baixa', 'assist']:\n",
    "        df['retorno_mobilidade_previa'][i] = 'não'\n",
    "    elif df['IMSPREVIO2'][i] == 'moderada' and df['IMSALTA2'][i] == 'alta':\n",
    "        df['retorno_mobilidade_previa'][i] = 'sim'\n",
    "    elif df['IMSPREVIO2'][i] == 'alta' and df['IMSALTA2'][i] in ['baixa', 'assist', 'moderada']:\n",
    "        df['retorno_mobilidade_previa'][i] = 'não'\n",
    "\n",
    "# Realizando a contagem de \"sim\" e \"nao\" para o retorno da mobilidade prévia\n",
    "contagem_retorno = df[\"retorno_mobilidade_previa\"]. value_counts()\n",
    "print(contagem_retorno)\n"
   ]
  },
  {
   "cell_type": "code",
   "execution_count": null,
   "metadata": {},
   "outputs": [],
   "source": []
  }
 ],
 "metadata": {
  "colab": {
   "authorship_tag": "ABX9TyNWKHBHlC4ivuxrw5TDyFyc",
   "provenance": []
  },
  "kernelspec": {
   "display_name": "Python 3 (ipykernel)",
   "language": "python",
   "name": "python3"
  },
  "language_info": {
   "codemirror_mode": {
    "name": "ipython",
    "version": 3
   },
   "file_extension": ".py",
   "mimetype": "text/x-python",
   "name": "python",
   "nbconvert_exporter": "python",
   "pygments_lexer": "ipython3",
   "version": "3.10.9"
  }
 },
 "nbformat": 4,
 "nbformat_minor": 1
}
